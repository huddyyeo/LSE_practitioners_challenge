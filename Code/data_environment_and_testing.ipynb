{
  "nbformat": 4,
  "nbformat_minor": 0,
  "metadata": {
    "colab": {
      "name": "data environment and testing.ipynb",
      "provenance": [],
      "collapsed_sections": []
    },
    "kernelspec": {
      "name": "python3",
      "display_name": "Python 3"
    }
  },
  "cells": [
    {
      "cell_type": "code",
      "metadata": {
        "id": "4EgoUH50ppCi",
        "colab_type": "code",
        "colab": {}
      },
      "source": [
        "import numpy as np\n",
        "from scipy.stats import pearsonr\n",
        "import pandas as pd\n",
        "import matplotlib.pyplot as plt\n",
        "from google.colab import files\n",
        "#hosted on colab"
      ],
      "execution_count": 0,
      "outputs": []
    },
    {
      "cell_type": "code",
      "metadata": {
        "id": "0yn-vmB3rKSm",
        "colab_type": "code",
        "outputId": "8fc32241-de9a-4e4f-e1bd-6bff48e21d22",
        "colab": {
          "base_uri": "https://localhost:8080/",
          "height": 34
        }
      },
      "source": [
        "x=np.array([12,123,32,5,4,3,5,67])\n",
        "y=np.array([11,133,22,5,2,1,5,44])\n",
        "pearsonr(x,y) #returns (corr,p-value of the 2 tailed test)"
      ],
      "execution_count": 0,
      "outputs": [
        {
          "output_type": "execute_result",
          "data": {
            "text/plain": [
              "(0.9771274513188724, 2.9403813332491067e-05)"
            ]
          },
          "metadata": {
            "tags": []
          },
          "execution_count": 8
        }
      ]
    },
    {
      "cell_type": "code",
      "metadata": {
        "id": "BhXW6ODGpu9I",
        "colab_type": "code",
        "colab": {}
      },
      "source": [
        "#function that returns rolling correlations\n",
        "def roll_corr(x,y,length=5):\n",
        "  corr=[]\n",
        "  x_len=len(x)\n",
        "  if (x_len!=len(y)):\n",
        "    raise ValueError('Length of datasets do not match')\n",
        "    return\n",
        "  if (length>x_len):\n",
        "    raise ValueError('Length of rolling window exceeds data')\n",
        "    return\n",
        "  for i in range(x_len):\n",
        "    if (i+length>=x_len):\n",
        "      break\n",
        "    temp=pearsonr(x[i:i+length],y[i:i+length])[0]\n",
        "    corr.append(temp)\n",
        "  return corr"
      ],
      "execution_count": 0,
      "outputs": []
    },
    {
      "cell_type": "code",
      "metadata": {
        "id": "xtv0KqlquG0q",
        "colab_type": "code",
        "outputId": "465e2b17-5d76-4b0d-e8d6-d508fcefc8ae",
        "colab": {
          "base_uri": "https://localhost:8080/",
          "height": 85
        }
      },
      "source": [
        "#example of above function\n",
        "roll_corr(x,y,4)"
      ],
      "execution_count": 0,
      "outputs": [
        {
          "output_type": "execute_result",
          "data": {
            "text/plain": [
              "[0.9953771854549682,\n",
              " 0.9956629841931625,\n",
              " 0.9929078162734514,\n",
              " 0.9710607611177228]"
            ]
          },
          "metadata": {
            "tags": []
          },
          "execution_count": 4
        }
      ]
    },
    {
      "cell_type": "code",
      "metadata": {
        "id": "54raJRMRKy7B",
        "colab_type": "code",
        "colab": {}
      },
      "source": [
        "'''\n",
        "Class for creating a data environment. Input a list of urls, list of date type and list of date formats\n",
        "List of url refers to a list of the urls of the raw data\n",
        "List of data type should be comprised of 0 and 1s and should correspond to each url. 0 refers to equities data, 1 refers to other data\n",
        "Equity data should have Date, High and Low columns\n",
        "Other data should have Date and Value columns\n",
        "List of date formats refers to the formats of the data in the Date column. \n",
        "If not necessary, please enter a ''. Otherwise enter the date format. This is the same as strptime format codes\n",
        "\n",
        "Upon execution, the data is imported, cleaned and stored in the class.\n",
        "'''\n",
        "class data_environment(object):\n",
        "  def __init__(self,url_list,data_type,date_format):\n",
        "\n",
        "    self.check_inputs(url_list,data_type,date_format)\n",
        "    self.init_data(url_list) \n",
        "    self.preprocess_data()\n",
        "\n",
        "  def check_inputs(self,url_list,data_type,date_format): \n",
        "    if (len(url_list)!=len(data_type) or len(url_list)!=len(date_format)):\n",
        "      raise ValueError('Diff lengths of url and data type obtained')\n",
        "    temp=data_type.copy()\n",
        "    temp=list(dict.fromkeys(temp))\n",
        "    temp.sort()\n",
        "    if (any(i!=0 and i!=1 for i in temp)):\n",
        "      raise ValueError('Invalid data type input')  \n",
        "    self.data_type=data_type\n",
        "    self.date_format=date_format\n",
        "            \n",
        "  def init_data(self,url_list): \n",
        "    self.raw_data=[]\n",
        "    for i in range(len(url_list)):\n",
        "      temp=pd.read_csv(url_list[i]).dropna()\n",
        "      temp=temp.reset_index()\n",
        "      self.raw_data.append(temp)  \n",
        "\n",
        "  def get_daily_price(self,data): \n",
        "    return data.loc[:,['High','Low']].mean(axis=1).values\n",
        "\n",
        "  def get_logr(self,data):\n",
        "    returns=data[1:]/data[:-1]\n",
        "    return pd.Series(np.log(returns)).rename('Log-return')\n",
        "\n",
        "  def get_datetime(self,data,i):\n",
        "    if i=='':\n",
        "      date=pd.to_datetime(data.Date)\n",
        "    else:\n",
        "      date=pd.to_datetime(data.Date,format=self.date_format[i],exact=False)\n",
        "    return date     \n",
        "\n",
        "  def preprocess_data(self): \n",
        "    self.data=[]\n",
        "    for i in range(len(self.raw_data)):\n",
        "      if (self.data_type[i]==0):\n",
        "        date=self.get_datetime(self.raw_data[i],i)\n",
        "        logr=self.get_logr(self.get_daily_price(self.raw_data[i]))\n",
        "        self.data.append(pd.concat([date,logr],axis=1))\n",
        "      else:\n",
        "        date=self.get_datetime(self.raw_data[i],i)\n",
        "        logr=self.get_logr(self.raw_data[i].loc[:,'Value'].values)\n",
        "        self.data.append(pd.concat([date,logr],axis=1))\n",
        "\n",
        "  def merge_download_all(self,join_style='outer'):\n",
        "    temp=self.data[0]\n",
        "    for i in range(1,len(self.data)):\n",
        "      temp=pd.merge(temp,self.data[i],on='Date',how=join_style,sort=True)\n",
        "    temp.to_csv('data.csv')\n",
        "    files.download('data.csv')        "
      ],
      "execution_count": 0,
      "outputs": []
    },
    {
      "cell_type": "code",
      "metadata": {
        "id": "fGjwNin-NBRd",
        "colab_type": "code",
        "colab": {}
      },
      "source": [
        "#Test all data. This is done by writing a list of all the links, a list of the data types 0,1 and a list of the date formats\n",
        "\n",
        "sp500_link='https://raw.githubusercontent.com/huddyyeo/LSE_practitioners_challenge/master/Data/%5EGSPC.csv'\n",
        "yields_link='https://raw.githubusercontent.com/huddyyeo/LSE_practitioners_challenge/master/Data/%5ETNX.csv'\n",
        "gdp_link='https://raw.githubusercontent.com/huddyyeo/LSE_practitioners_challenge/master/Data/UK_GDP_data.csv'\n",
        "inflation_link='https://raw.githubusercontent.com/huddyyeo/LSE_practitioners_challenge/master/Data/UK_inflation_data.csv'\n",
        "\n",
        "test_url=[sp500_link,yields_link,gdp_link,inflation_link]\n",
        "data_type=[0,0,1,1]\n",
        "date_format=['','','%Y','%b-%y']\n",
        "\n",
        "#creation of our data environment\n",
        "data_env=data_environment(test_url,data_type,date_format)"
      ],
      "execution_count": 0,
      "outputs": []
    },
    {
      "cell_type": "code",
      "metadata": {
        "id": "DPzCX-jWInDd",
        "colab_type": "code",
        "colab": {}
      },
      "source": [
        "data_env.merge_download_all(join_style='outer')"
      ],
      "execution_count": 0,
      "outputs": []
    },
    {
      "cell_type": "code",
      "metadata": {
        "id": "sBDwbwv8LGkp",
        "colab_type": "code",
        "outputId": "2b0d0fb4-d964-40e8-bfab-67640de1eeeb",
        "colab": {
          "base_uri": "https://localhost:8080/",
          "height": 359
        }
      },
      "source": [
        "data_env.data[1].tail(10)"
      ],
      "execution_count": 0,
      "outputs": [
        {
          "output_type": "execute_result",
          "data": {
            "text/html": [
              "<div>\n",
              "<style scoped>\n",
              "    .dataframe tbody tr th:only-of-type {\n",
              "        vertical-align: middle;\n",
              "    }\n",
              "\n",
              "    .dataframe tbody tr th {\n",
              "        vertical-align: top;\n",
              "    }\n",
              "\n",
              "    .dataframe thead th {\n",
              "        text-align: right;\n",
              "    }\n",
              "</style>\n",
              "<table border=\"1\" class=\"dataframe\">\n",
              "  <thead>\n",
              "    <tr style=\"text-align: right;\">\n",
              "      <th></th>\n",
              "      <th>Date</th>\n",
              "      <th>Log-return</th>\n",
              "    </tr>\n",
              "  </thead>\n",
              "  <tbody>\n",
              "    <tr>\n",
              "      <th>7486</th>\n",
              "      <td>2020-01-10</td>\n",
              "      <td>0.003527</td>\n",
              "    </tr>\n",
              "    <tr>\n",
              "      <th>7487</th>\n",
              "      <td>2020-01-13</td>\n",
              "      <td>-0.007067</td>\n",
              "    </tr>\n",
              "    <tr>\n",
              "      <th>7488</th>\n",
              "      <td>2020-01-14</td>\n",
              "      <td>-0.023180</td>\n",
              "    </tr>\n",
              "    <tr>\n",
              "      <th>7489</th>\n",
              "      <td>2020-01-15</td>\n",
              "      <td>0.005013</td>\n",
              "    </tr>\n",
              "    <tr>\n",
              "      <th>7490</th>\n",
              "      <td>2020-01-16</td>\n",
              "      <td>0.018167</td>\n",
              "    </tr>\n",
              "    <tr>\n",
              "      <th>7491</th>\n",
              "      <td>2020-01-17</td>\n",
              "      <td>-0.028498</td>\n",
              "    </tr>\n",
              "    <tr>\n",
              "      <th>7492</th>\n",
              "      <td>2020-01-21</td>\n",
              "      <td>-0.005347</td>\n",
              "    </tr>\n",
              "    <tr>\n",
              "      <th>7493</th>\n",
              "      <td>2020-01-22</td>\n",
              "      <td>-0.021966</td>\n",
              "    </tr>\n",
              "    <tr>\n",
              "      <th>7494</th>\n",
              "      <td>2020-01-23</td>\n",
              "      <td>-0.016871</td>\n",
              "    </tr>\n",
              "    <tr>\n",
              "      <th>7495</th>\n",
              "      <td>2020-01-24</td>\n",
              "      <td>NaN</td>\n",
              "    </tr>\n",
              "  </tbody>\n",
              "</table>\n",
              "</div>"
            ],
            "text/plain": [
              "           Date  Log-return\n",
              "7486 2020-01-10    0.003527\n",
              "7487 2020-01-13   -0.007067\n",
              "7488 2020-01-14   -0.023180\n",
              "7489 2020-01-15    0.005013\n",
              "7490 2020-01-16    0.018167\n",
              "7491 2020-01-17   -0.028498\n",
              "7492 2020-01-21   -0.005347\n",
              "7493 2020-01-22   -0.021966\n",
              "7494 2020-01-23   -0.016871\n",
              "7495 2020-01-24         NaN"
            ]
          },
          "metadata": {
            "tags": []
          },
          "execution_count": 73
        }
      ]
    },
    {
      "cell_type": "code",
      "metadata": {
        "id": "ADRxK4s-NT9U",
        "colab_type": "code",
        "outputId": "1ee281ec-af5a-4c02-c88f-fef7f8136273",
        "colab": {
          "base_uri": "https://localhost:8080/",
          "height": 419
        }
      },
      "source": [
        "#consolidating our data, in this case with yield and inflation data\n",
        "df=pd.merge(data_env.data[1],data_env.data[2],on='Date',how='outer')\n",
        "#df=df.dropna()\n",
        "df"
      ],
      "execution_count": 0,
      "outputs": [
        {
          "output_type": "execute_result",
          "data": {
            "text/html": [
              "<div>\n",
              "<style scoped>\n",
              "    .dataframe tbody tr th:only-of-type {\n",
              "        vertical-align: middle;\n",
              "    }\n",
              "\n",
              "    .dataframe tbody tr th {\n",
              "        vertical-align: top;\n",
              "    }\n",
              "\n",
              "    .dataframe thead th {\n",
              "        text-align: right;\n",
              "    }\n",
              "</style>\n",
              "<table border=\"1\" class=\"dataframe\">\n",
              "  <thead>\n",
              "    <tr style=\"text-align: right;\">\n",
              "      <th></th>\n",
              "      <th>Date</th>\n",
              "      <th>Log-return_x</th>\n",
              "      <th>Log-return_y</th>\n",
              "    </tr>\n",
              "  </thead>\n",
              "  <tbody>\n",
              "    <tr>\n",
              "      <th>0</th>\n",
              "      <td>1990-01-29</td>\n",
              "      <td>0.001176</td>\n",
              "      <td>NaN</td>\n",
              "    </tr>\n",
              "    <tr>\n",
              "      <th>1</th>\n",
              "      <td>1990-01-30</td>\n",
              "      <td>-0.009445</td>\n",
              "      <td>NaN</td>\n",
              "    </tr>\n",
              "    <tr>\n",
              "      <th>2</th>\n",
              "      <td>1990-01-31</td>\n",
              "      <td>-0.001187</td>\n",
              "      <td>NaN</td>\n",
              "    </tr>\n",
              "    <tr>\n",
              "      <th>3</th>\n",
              "      <td>1990-02-01</td>\n",
              "      <td>0.009456</td>\n",
              "      <td>NaN</td>\n",
              "    </tr>\n",
              "    <tr>\n",
              "      <th>4</th>\n",
              "      <td>1990-02-02</td>\n",
              "      <td>NaN</td>\n",
              "      <td>NaN</td>\n",
              "    </tr>\n",
              "    <tr>\n",
              "      <th>...</th>\n",
              "      <td>...</td>\n",
              "      <td>...</td>\n",
              "      <td>...</td>\n",
              "    </tr>\n",
              "    <tr>\n",
              "      <th>9310</th>\n",
              "      <td>2014-01-01</td>\n",
              "      <td>NaN</td>\n",
              "      <td>0.023284</td>\n",
              "    </tr>\n",
              "    <tr>\n",
              "      <th>9311</th>\n",
              "      <td>2015-01-01</td>\n",
              "      <td>NaN</td>\n",
              "      <td>0.019000</td>\n",
              "    </tr>\n",
              "    <tr>\n",
              "      <th>9312</th>\n",
              "      <td>2016-01-01</td>\n",
              "      <td>NaN</td>\n",
              "      <td>0.018744</td>\n",
              "    </tr>\n",
              "    <tr>\n",
              "      <th>9313</th>\n",
              "      <td>2018-01-01</td>\n",
              "      <td>NaN</td>\n",
              "      <td>NaN</td>\n",
              "    </tr>\n",
              "    <tr>\n",
              "      <th>9314</th>\n",
              "      <td>2019-01-01</td>\n",
              "      <td>NaN</td>\n",
              "      <td>NaN</td>\n",
              "    </tr>\n",
              "  </tbody>\n",
              "</table>\n",
              "<p>9315 rows × 3 columns</p>\n",
              "</div>"
            ],
            "text/plain": [
              "           Date  Log-return_x  Log-return_y\n",
              "0    1990-01-29      0.001176           NaN\n",
              "1    1990-01-30     -0.009445           NaN\n",
              "2    1990-01-31     -0.001187           NaN\n",
              "3    1990-02-01      0.009456           NaN\n",
              "4    1990-02-02           NaN           NaN\n",
              "...         ...           ...           ...\n",
              "9310 2014-01-01           NaN      0.023284\n",
              "9311 2015-01-01           NaN      0.019000\n",
              "9312 2016-01-01           NaN      0.018744\n",
              "9313 2018-01-01           NaN           NaN\n",
              "9314 2019-01-01           NaN           NaN\n",
              "\n",
              "[9315 rows x 3 columns]"
            ]
          },
          "metadata": {
            "tags": []
          },
          "execution_count": 14
        }
      ]
    },
    {
      "cell_type": "code",
      "metadata": {
        "id": "8b4E6b9QPOm9",
        "colab_type": "code",
        "outputId": "a21da43b-b56c-4dd6-b497-f3de496b6a29",
        "colab": {
          "base_uri": "https://localhost:8080/",
          "height": 483
        }
      },
      "source": [
        "#plotting rolling correlations of 100 days or 20 weeks\n",
        "corr_data=roll_corr(df.loc[:,'Log-return_x'].values,df.loc[:,'Log-return_y'].values,10)\n",
        "plt.figure(figsize=[10,8])\n",
        "plt.plot(corr_data,label=\"Corr\")\n",
        "plt.legend()\n",
        "plt.show()"
      ],
      "execution_count": 0,
      "outputs": [
        {
          "output_type": "display_data",
          "data": {
            "image/png": "[encoded data removed]",
            "text/plain": [
              "<Figure size 720x576 with 1 Axes>"
            ]
          },
          "metadata": {
            "tags": []
          }
        }
      ]
    },
    {
      "cell_type": "code",
      "metadata": {
        "id": "4Yv_N6540KDL",
        "colab_type": "code",
        "outputId": "e22e6462-2bd1-410f-9023-6d531e1689ea",
        "colab": {
          "base_uri": "https://localhost:8080/",
          "height": 289
        }
      },
      "source": [
        "#run rolling correlation windows, from length 4 to 20,(1 year is 200)\n",
        "#from the correlation data calculated, obtain first 4 central moments\n",
        "from scipy.stats import skew\n",
        "from scipy.stats import kurtosis\n",
        "corr_data=pd.DataFrame(columns=['window_length','mean','var','skew','kurtosis'])\n",
        "for i in range(4,20):\n",
        "  values=roll_corr(df.loc[:,'Log-return_x'].values,df.loc[:,'Log-return_y'].values,i)\n",
        "  entry_dict={'window_length':i,\n",
        "              'mean':np.mean(values),\n",
        "              'var':np.var(values),\n",
        "              'skew':skew(values),\n",
        "              'kurtosis':kurtosis(values)}\n",
        "  corr_data=corr_data.append(entry_dict,ignore_index=True)\n",
        "  print(i)"
      ],
      "execution_count": 0,
      "outputs": [
        {
          "output_type": "stream",
          "text": [
            "4\n",
            "5\n",
            "6\n",
            "7\n",
            "8\n",
            "9\n",
            "10\n",
            "11\n",
            "12\n",
            "13\n",
            "14\n",
            "15\n",
            "16\n",
            "17\n",
            "18\n",
            "19\n"
          ],
          "name": "stdout"
        }
      ]
    },
    {
      "cell_type": "code",
      "metadata": {
        "id": "kTn0Lw4O136J",
        "colab_type": "code",
        "outputId": "fd16c92e-bcf2-45b6-f272-7084479431ee",
        "colab": {
          "base_uri": "https://localhost:8080/",
          "height": 483
        }
      },
      "source": [
        "plt.figure(figsize=[10,8])\n",
        "plt.plot(corr_data.loc[:,'mean'],label='mean')\n",
        "plt.plot(corr_data.loc[:,'var'],label='variance')\n",
        "plt.legend()\n",
        "plt.show()"
      ],
      "execution_count": 0,
      "outputs": [
        {
          "output_type": "display_data",
          "data": {
            "image/png": "[encoded data removed]",
            "text/plain": [
              "<Figure size 720x576 with 1 Axes>"
            ]
          },
          "metadata": {
            "tags": []
          }
        }
      ]
    },
    {
      "cell_type": "markdown",
      "metadata": {
        "id": "Jzhs5hX061aR",
        "colab_type": "text"
      },
      "source": [
        "Can observe variance steadily decreasing, as expected"
      ]
    },
    {
      "cell_type": "code",
      "metadata": {
        "id": "hxJjz2Qz58M2",
        "colab_type": "code",
        "outputId": "1c8a5809-a74a-40b2-8e4b-400892f14a60",
        "colab": {
          "base_uri": "https://localhost:8080/",
          "height": 483
        }
      },
      "source": [
        "plt.figure(figsize=[10,8])\n",
        "plt.plot(corr_data.loc[:,'skew'],label='skew')\n",
        "plt.plot(corr_data.loc[:,'kurtosis'],label='kurtosis')\n",
        "plt.legend()\n",
        "plt.show()"
      ],
      "execution_count": 0,
      "outputs": [
        {
          "output_type": "display_data",
          "data": {
            "image/png": "[encoded data removed]",
            "text/plain": [
              "<Figure size 720x576 with 1 Axes>"
            ]
          },
          "metadata": {
            "tags": []
          }
        }
      ]
    }
  ]
}