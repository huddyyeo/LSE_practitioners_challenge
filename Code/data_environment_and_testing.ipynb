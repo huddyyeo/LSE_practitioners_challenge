{
  "nbformat": 4,
  "nbformat_minor": 0,
  "metadata": {
    "colab": {
      "name": "data environment and testing.ipynb",
      "provenance": [],
      "collapsed_sections": []
    },
    "kernelspec": {
      "name": "python3",
      "display_name": "Python 3"
    }
  },
  "cells": [
    {
      "cell_type": "code",
      "metadata": {
        "id": "4EgoUH50ppCi",
        "colab_type": "code",
        "colab": {}
      },
      "source": [
        "import numpy as np\n",
        "from scipy.stats import pearsonr\n",
        "import pandas as pd\n",
        "import matplotlib.pyplot as plt\n",
        "from google.colab import files\n",
        "#hosted on colab"
      ],
      "execution_count": 0,
      "outputs": []
    },
    {
      "cell_type": "code",
      "metadata": {
        "id": "0yn-vmB3rKSm",
        "colab_type": "code",
        "outputId": "5ef19f21-4f2e-4ac6-9d75-b759b8f8a5e8",
        "colab": {
          "base_uri": "https://localhost:8080/",
          "height": 34
        }
      },
      "source": [
        "x=np.array([12,123,32,5,4,3,5,67])\n",
        "y=np.array([11,133,22,5,2,1,5,44])\n",
        "pearsonr(x,y) #returns (corr,p-value of the 2 tailed test)"
      ],
      "execution_count": 0,
      "outputs": [
        {
          "output_type": "execute_result",
          "data": {
            "text/plain": [
              "(0.9771274513188724, 2.9403813332491067e-05)"
            ]
          },
          "metadata": {
            "tags": []
          },
          "execution_count": 6
        }
      ]
    },
    {
      "cell_type": "code",
      "metadata": {
        "id": "BhXW6ODGpu9I",
        "colab_type": "code",
        "colab": {}
      },
      "source": [
        "#function that returns rolling correlations\n",
        "def roll_corr(x,y,length=5):\n",
        "  corr=[]\n",
        "  x_len=len(x)\n",
        "  if (x_len!=len(y)):\n",
        "    raise ValueError('Length of datasets do not match')\n",
        "    return\n",
        "  if (length>x_len):\n",
        "    raise ValueError('Length of rolling window exceeds data')\n",
        "    return\n",
        "  for i in range(x_len):\n",
        "    if (i+length>=x_len):\n",
        "      break\n",
        "    temp=pearsonr(x[i:i+length],y[i:i+length])[0]\n",
        "    corr.append(temp)\n",
        "  return corr"
      ],
      "execution_count": 0,
      "outputs": []
    },
    {
      "cell_type": "code",
      "metadata": {
        "id": "xtv0KqlquG0q",
        "colab_type": "code",
        "outputId": "c8f07c92-6223-4caf-d7c3-630f1c70c54b",
        "colab": {
          "base_uri": "https://localhost:8080/",
          "height": 85
        }
      },
      "source": [
        "#example of above function\n",
        "roll_corr(x,y,4)"
      ],
      "execution_count": 0,
      "outputs": [
        {
          "output_type": "execute_result",
          "data": {
            "text/plain": [
              "[0.9953771854549682,\n",
              " 0.9956629841931625,\n",
              " 0.9929078162734514,\n",
              " 0.9710607611177228]"
            ]
          },
          "metadata": {
            "tags": []
          },
          "execution_count": 7
        }
      ]
    },
    {
      "cell_type": "code",
      "metadata": {
        "id": "54raJRMRKy7B",
        "colab_type": "code",
        "colab": {}
      },
      "source": [
        "'''\n",
        "Class for creating a data environment. Input a list of urls, list of date type and list of date formats\n",
        "List of url refers to a list of the urls of the raw data\n",
        "List of data type should be comprised of 0 and 1s and should correspond to each url. 0 refers to equities data, 1 refers to other data\n",
        "Equity data should have Date, High and Low columns\n",
        "Other data should have Date and Value columns\n",
        "List of date formats refers to the formats of the data in the Date column. \n",
        "If not necessary, please enter a ''. Otherwise enter the date format. This is the same as strptime format codes\n",
        "\n",
        "Upon execution, the data is imported, cleaned and stored in the class.\n",
        "'''\n",
        "class data_environment(object):\n",
        "  def __init__(self,url_list,data_type,date_format):\n",
        "\n",
        "    self.check_inputs(url_list,data_type,date_format)\n",
        "    self.init_data(url_list) \n",
        "    self.preprocess_data()\n",
        "\n",
        "  def check_inputs(self,url_list,data_type,date_format): \n",
        "    if (len(url_list)!=len(data_type) or len(url_list)!=len(date_format)):\n",
        "      raise ValueError('Diff lengths of url and data type obtained')\n",
        "    temp=data_type.copy()\n",
        "    temp=list(dict.fromkeys(temp))\n",
        "    temp.sort()\n",
        "    if (any(i!=0 and i!=1 for i in temp)):\n",
        "      raise ValueError('Invalid data type input')  \n",
        "    self.data_type=data_type\n",
        "    self.date_format=date_format\n",
        "            \n",
        "  def init_data(self,url_list): \n",
        "    self.raw_data=[]\n",
        "    for i in range(len(url_list)):\n",
        "      temp=pd.read_csv(url_list[i]).dropna()\n",
        "      temp=temp.reset_index()\n",
        "      self.raw_data.append(temp)  \n",
        "\n",
        "  def get_daily_price(self,data): \n",
        "    return data.loc[:,['High','Low']].mean(axis=1).values\n",
        "\n",
        "  def get_logr(self,data):\n",
        "    returns=data[1:]/data[:-1]\n",
        "    return pd.Series(np.log(returns)).rename('Log-return')\n",
        "\n",
        "  def get_datetime(self,data,i):\n",
        "    if i=='':\n",
        "      date=pd.to_datetime(data.Date)\n",
        "    else:\n",
        "      date=pd.to_datetime(data.Date,format=self.date_format[i],exact=False)\n",
        "    return date     \n",
        "\n",
        "  def preprocess_data(self): \n",
        "    self.data=[]\n",
        "    for i in range(len(self.raw_data)):\n",
        "      if (self.data_type[i]==0):\n",
        "        \n",
        "        self.raw_data[i].Date=self.get_datetime(self.raw_data[i],i)\n",
        "        self.raw_data[i]=self.raw_data[i].sort_values(by='Date',ascending=True)\n",
        "        self.raw_data[i]=self.raw_data[i].reset_index()\n",
        "        logr=self.get_logr(self.get_daily_price(self.raw_data[i]))\n",
        "        self.data.append(pd.concat([self.raw_data[i].Date,logr],axis=1))\n",
        "      else:\n",
        "        self.raw_data[i].Date=self.get_datetime(self.raw_data[i],i)\n",
        "        self.raw_data[i]=self.raw_data[i].sort_values(by='Date',ascending=True)  \n",
        "        self.raw_data[i]=self.raw_data[i].reset_index()      \n",
        "        self.raw_data[i]=self.raw_data[i].loc[:,['Date','Value']]\n",
        "        logr=self.get_logr(self.raw_data[i].loc[:,'Value'].values)\n",
        "        self.data.append(pd.concat([self.raw_data[i].Date,logr],axis=1))\n",
        "\n",
        "  def resample(self,frequency='M',dataset=0,interpolate_method='linear'):\n",
        "    temp=self.data[dataset].set_index('Date')\n",
        "    temp=temp.resample('D').interpolate(method=interpolate_method)\n",
        "    return temp.resample(frequency).asfreq()\n",
        "\n",
        "  def resample_download(self,frequency='M',dataset=0,interpolate_method='linear'):\n",
        "    temp=self.data[dataset].set_index('Date')\n",
        "    temp=temp.resample('D').interpolate(method=interpolate_method)\n",
        "    temp=temp.resample(frequency).asfreq()\n",
        "    temp.to_csv('data.csv')\n",
        "    files.download('data.csv')\n",
        "  \n",
        "  def resample_download_all(self,frequency='M',interpolate_method='linear',join_style='outer'):\n",
        "    temp=[]\n",
        "    for i in range(len(self.data)):\n",
        "      x=self.data[i].set_index('Date')\n",
        "      x=x.resample('D').interpolate(method=interpolate_method)\n",
        "      temp.append(x)\n",
        "    file=temp[0]\n",
        "    for i in range(1,len(temp)):\n",
        "      file=pd.merge(file,temp[i],on='Date',how=join_style,sort=True)\n",
        "    file=file.resample(frequency).asfreq()\n",
        "    file.to_csv('data.csv')\n",
        "    files.download('data.csv')  \n",
        "\n",
        "  def merge_download_all(self,join_style='outer'):\n",
        "    temp=self.data[0]\n",
        "    for i in range(1,len(self.data)):\n",
        "      temp=pd.merge(temp,self.data[i],on='Date',how=join_style,sort=True)\n",
        "    temp.to_csv('data.csv')\n",
        "    files.download('data.csv')        "
      ],
      "execution_count": 0,
      "outputs": []
    },
    {
      "cell_type": "code",
      "metadata": {
        "id": "fGjwNin-NBRd",
        "colab_type": "code",
        "colab": {}
      },
      "source": [
        "#Test all data. This is done by writing a list of all the links, a list of the data types 0,1 and a list of the date formats\n",
        "#Risk factors are: Yield, Interest rates, Inflation, GDP Growth, Risk free rate, Mortality\n",
        "\n",
        "yieldd=''#to be added\n",
        "ir='https://raw.githubusercontent.com/huddyyeo/LSE_practitioners_challenge/master/Data/interest%20rates%20(lending).csv'\n",
        "ir_format='%b-%y'\n",
        "inflation='https://raw.githubusercontent.com/huddyyeo/LSE_practitioners_challenge/master/Data/Inflation.csv'\n",
        "inflation_format='%Y %b'\n",
        "gdp='https://raw.githubusercontent.com/huddyyeo/LSE_practitioners_challenge/master/Data/GDP.csv'\n",
        "gdp_format=''\n",
        "rf=''#to be added\n",
        "mortality='https://raw.githubusercontent.com/huddyyeo/LSE_practitioners_challenge/master/Data/uk%20mortality%20rates.csv'\n",
        "mortality_format='%Y'\n",
        "\n",
        "test_url=[ir,inflation,gdp,mortality]\n",
        "data_type=[1,1,1,1]\n",
        "date_format=[ir_format,inflation_format,gdp_format,mortality_format]\n",
        "\n",
        "#creation of our data environment\n",
        "data_env=data_environment(test_url,data_type,date_format)"
      ],
      "execution_count": 0,
      "outputs": []
    },
    {
      "cell_type": "code",
      "metadata": {
        "id": "pyWaPoKY0Bgc",
        "colab_type": "code",
        "colab": {
          "base_uri": "https://localhost:8080/",
          "height": 204
        },
        "outputId": "9b599f97-6594-471f-bfb4-6db90c132a2f"
      },
      "source": [
        "#raw data\n",
        "data_env.raw_data[2].head()"
      ],
      "execution_count": 113,
      "outputs": [
        {
          "output_type": "execute_result",
          "data": {
            "text/html": [
              "<div>\n",
              "<style scoped>\n",
              "    .dataframe tbody tr th:only-of-type {\n",
              "        vertical-align: middle;\n",
              "    }\n",
              "\n",
              "    .dataframe tbody tr th {\n",
              "        vertical-align: top;\n",
              "    }\n",
              "\n",
              "    .dataframe thead th {\n",
              "        text-align: right;\n",
              "    }\n",
              "</style>\n",
              "<table border=\"1\" class=\"dataframe\">\n",
              "  <thead>\n",
              "    <tr style=\"text-align: right;\">\n",
              "      <th></th>\n",
              "      <th>Date</th>\n",
              "      <th>Value</th>\n",
              "    </tr>\n",
              "  </thead>\n",
              "  <tbody>\n",
              "    <tr>\n",
              "      <th>0</th>\n",
              "      <td>1990-01-01</td>\n",
              "      <td>294556</td>\n",
              "    </tr>\n",
              "    <tr>\n",
              "      <th>1</th>\n",
              "      <td>1990-04-01</td>\n",
              "      <td>296069</td>\n",
              "    </tr>\n",
              "    <tr>\n",
              "      <th>2</th>\n",
              "      <td>1990-07-01</td>\n",
              "      <td>292978</td>\n",
              "    </tr>\n",
              "    <tr>\n",
              "      <th>3</th>\n",
              "      <td>1990-10-01</td>\n",
              "      <td>291970</td>\n",
              "    </tr>\n",
              "    <tr>\n",
              "      <th>4</th>\n",
              "      <td>1991-01-01</td>\n",
              "      <td>291118</td>\n",
              "    </tr>\n",
              "  </tbody>\n",
              "</table>\n",
              "</div>"
            ],
            "text/plain": [
              "        Date   Value\n",
              "0 1990-01-01  294556\n",
              "1 1990-04-01  296069\n",
              "2 1990-07-01  292978\n",
              "3 1990-10-01  291970\n",
              "4 1991-01-01  291118"
            ]
          },
          "metadata": {
            "tags": []
          },
          "execution_count": 113
        }
      ]
    },
    {
      "cell_type": "code",
      "metadata": {
        "id": "w21JW0N7xoq9",
        "colab_type": "code",
        "colab": {
          "base_uri": "https://localhost:8080/",
          "height": 204
        },
        "outputId": "4a54e68d-20ec-4173-d84d-4a3d6cd8c385"
      },
      "source": [
        "#processed log-return data\n",
        "data_env.data[2].head()"
      ],
      "execution_count": 114,
      "outputs": [
        {
          "output_type": "execute_result",
          "data": {
            "text/html": [
              "<div>\n",
              "<style scoped>\n",
              "    .dataframe tbody tr th:only-of-type {\n",
              "        vertical-align: middle;\n",
              "    }\n",
              "\n",
              "    .dataframe tbody tr th {\n",
              "        vertical-align: top;\n",
              "    }\n",
              "\n",
              "    .dataframe thead th {\n",
              "        text-align: right;\n",
              "    }\n",
              "</style>\n",
              "<table border=\"1\" class=\"dataframe\">\n",
              "  <thead>\n",
              "    <tr style=\"text-align: right;\">\n",
              "      <th></th>\n",
              "      <th>Date</th>\n",
              "      <th>Log-return</th>\n",
              "    </tr>\n",
              "  </thead>\n",
              "  <tbody>\n",
              "    <tr>\n",
              "      <th>0</th>\n",
              "      <td>1990-01-01</td>\n",
              "      <td>0.005123</td>\n",
              "    </tr>\n",
              "    <tr>\n",
              "      <th>1</th>\n",
              "      <td>1990-04-01</td>\n",
              "      <td>-0.010495</td>\n",
              "    </tr>\n",
              "    <tr>\n",
              "      <th>2</th>\n",
              "      <td>1990-07-01</td>\n",
              "      <td>-0.003446</td>\n",
              "    </tr>\n",
              "    <tr>\n",
              "      <th>3</th>\n",
              "      <td>1990-10-01</td>\n",
              "      <td>-0.002922</td>\n",
              "    </tr>\n",
              "    <tr>\n",
              "      <th>4</th>\n",
              "      <td>1991-01-01</td>\n",
              "      <td>-0.001261</td>\n",
              "    </tr>\n",
              "  </tbody>\n",
              "</table>\n",
              "</div>"
            ],
            "text/plain": [
              "        Date  Log-return\n",
              "0 1990-01-01    0.005123\n",
              "1 1990-04-01   -0.010495\n",
              "2 1990-07-01   -0.003446\n",
              "3 1990-10-01   -0.002922\n",
              "4 1991-01-01   -0.001261"
            ]
          },
          "metadata": {
            "tags": []
          },
          "execution_count": 114
        }
      ]
    },
    {
      "cell_type": "code",
      "metadata": {
        "id": "QHpGBbYRhYpR",
        "colab_type": "code",
        "colab": {}
      },
      "source": [
        "#resample all data into Monthly, combines all the datasets and downloads them\n",
        "data_env.resample_download_all(frequency='M')"
      ],
      "execution_count": 0,
      "outputs": []
    },
    {
      "cell_type": "code",
      "metadata": {
        "id": "ADRxK4s-NT9U",
        "colab_type": "code",
        "colab": {}
      },
      "source": [
        "#consolidating our data, in this case with yield and inflation data\n",
        "df=pd.merge(data_env.data[1],data_env.data[2],on='Date',how='outer')\n",
        "#df=df.dropna()\n",
        "df"
      ],
      "execution_count": 0,
      "outputs": []
    },
    {
      "cell_type": "code",
      "metadata": {
        "id": "8b4E6b9QPOm9",
        "colab_type": "code",
        "colab": {}
      },
      "source": [
        "#plotting rolling correlations of 100 days or 20 weeks\n",
        "corr_data=roll_corr(df.loc[:,'Log-return_x'].values,df.loc[:,'Log-return_y'].values,10)\n",
        "plt.figure(figsize=[10,8])\n",
        "plt.plot(corr_data,label=\"Corr\")\n",
        "plt.legend()\n",
        "plt.show()"
      ],
      "execution_count": 0,
      "outputs": []
    },
    {
      "cell_type": "code",
      "metadata": {
        "id": "4Yv_N6540KDL",
        "colab_type": "code",
        "colab": {}
      },
      "source": [
        "#run rolling correlation windows, from length 4 to 20,(1 year is 200)\n",
        "#from the correlation data calculated, obtain first 4 central moments\n",
        "from scipy.stats import skew\n",
        "from scipy.stats import kurtosis\n",
        "corr_data=pd.DataFrame(columns=['window_length','mean','var','skew','kurtosis'])\n",
        "for i in range(4,20):\n",
        "  values=roll_corr(df.loc[:,'Log-return_x'].values,df.loc[:,'Log-return_y'].values,i)\n",
        "  entry_dict={'window_length':i,\n",
        "              'mean':np.mean(values),\n",
        "              'var':np.var(values),\n",
        "              'skew':skew(values),\n",
        "              'kurtosis':kurtosis(values)}\n",
        "  corr_data=corr_data.append(entry_dict,ignore_index=True)\n",
        "  print(i)"
      ],
      "execution_count": 0,
      "outputs": []
    },
    {
      "cell_type": "code",
      "metadata": {
        "id": "kTn0Lw4O136J",
        "colab_type": "code",
        "colab": {}
      },
      "source": [
        "plt.figure(figsize=[10,8])\n",
        "plt.plot(corr_data.loc[:,'mean'],label='mean')\n",
        "plt.plot(corr_data.loc[:,'var'],label='variance')\n",
        "plt.legend()\n",
        "plt.show()"
      ],
      "execution_count": 0,
      "outputs": []
    },
    {
      "cell_type": "code",
      "metadata": {
        "id": "hxJjz2Qz58M2",
        "colab_type": "code",
        "colab": {}
      },
      "source": [
        "plt.figure(figsize=[10,8])\n",
        "plt.plot(corr_data.loc[:,'skew'],label='skew')\n",
        "plt.plot(corr_data.loc[:,'kurtosis'],label='kurtosis')\n",
        "plt.legend()\n",
        "plt.show()"
      ],
      "execution_count": 0,
      "outputs": []
    }
  ]
}